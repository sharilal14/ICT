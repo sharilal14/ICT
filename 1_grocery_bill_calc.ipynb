{
  "nbformat": 4,
  "nbformat_minor": 0,
  "metadata": {
    "colab": {
      "provenance": []
    },
    "kernelspec": {
      "name": "python3",
      "display_name": "Python 3"
    },
    "language_info": {
      "name": "python"
    }
  },
  "cells": [
    {
      "cell_type": "markdown",
      "source": [
        "\n",
        "1.\n",
        "Grocery Store Bill Calculator\n",
        "A grocery store wants a program to calculate the total bill for a customer.\n",
        "a. Store the prices of items in a dictionary (e.g., {'apple': 10, 'milk': 50}) b. Take the items purchased and their quantities as input. c. Calculate and display the total bill amount."
      ],
      "metadata": {
        "id": "oWD_WddcI5FA"
      }
    },
    {
      "cell_type": "code",
      "execution_count": 1,
      "metadata": {
        "colab": {
          "base_uri": "https://localhost:8080/"
        },
        "id": "HPdFe0PyHOv2",
        "outputId": "97a2b2de-4824-4907-ce0d-48c783f20aae"
      },
      "outputs": [
        {
          "output_type": "stream",
          "name": "stdout",
          "text": [
            "Available items and their prices:\n",
            "Apple: 10 per unit\n",
            "Milk: 50 per unit\n",
            "Bread: 30 per unit\n",
            "Egg: 5 per unit\n",
            "Rice: 40 per unit\n",
            "\n",
            "Enter the items purchased and their quantities.\n",
            "Type 'done' when finished.\n",
            "\n",
            "Enter item name (or 'done'): apple\n",
            "Enter quantity of apple: 5\n",
            "Enter item name (or 'done'): milk\n",
            "Enter quantity of milk: 2\n",
            "Enter item name (or 'done'): egg\n",
            "Enter quantity of egg: 20\n",
            "Enter item name (or 'done'): done\n",
            "\n",
            "Total bill amount: 250\n"
          ]
        }
      ],
      "source": [
        "prices = { 'apple': 10,'milk': 50, 'bread': 30,'egg': 5,'rice': 40}\n",
        "\n",
        "print(\"Available items and their prices:\")\n",
        "for item, price in prices.items():\n",
        "    print(f\"{item.capitalize()}: {price} per unit\")\n",
        "\n",
        "print(\"\\nEnter the items purchased and their quantities.\").\n",
        "print(\"Type 'done' when finished.\\n\")\n",
        "\n",
        "total_bill = 0\n",
        "\n",
        "while True:\n",
        "    item = input(\"Enter item name (or 'done'): \").lower()\n",
        "    if item == 'done':\n",
        "        break\n",
        "    if item not in prices:\n",
        "        print(\"This item is not available in the store. Try again.\")\n",
        "        continue\n",
        "    try:\n",
        "        quantity = int(input(f\"Enter quantity of {item}: \"))\n",
        "        total_bill += prices[item] * quantity\n",
        "    except ValueError:\n",
        "        print(\"Invalid quantity. Please enter a number.\")\n",
        "\n",
        "print(f\"\\nTotal bill amount: {total_bill}\")"
      ]
    }
  ]
}