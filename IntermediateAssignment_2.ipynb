{
  "nbformat": 4,
  "nbformat_minor": 0,
  "metadata": {
    "colab": {
      "provenance": []
    },
    "kernelspec": {
      "name": "python3",
      "display_name": "Python 3"
    },
    "language_info": {
      "name": "python"
    }
  },
  "cells": [
    {
      "cell_type": "code",
      "execution_count": 3,
      "metadata": {
        "colab": {
          "base_uri": "https://localhost:8080/"
        },
        "id": "CEXVh4k_bMwI",
        "outputId": "1a454993-481e-4d3f-eaa3-1280551c0897"
      },
      "outputs": [
        {
          "output_type": "stream",
          "name": "stderr",
          "text": [
            "<ipython-input-3-55284f6ffce6>:15: FutureWarning: A value is trying to be set on a copy of a DataFrame or Series through chained assignment using an inplace method.\n",
            "The behavior will change in pandas 3.0. This inplace method will never work because the intermediate object on which we are setting values always behaves as a copy.\n",
            "\n",
            "For example, when doing 'df[col].method(value, inplace=True)', try using 'df.method({col: value}, inplace=True)' or df[col] = df[col].method(value) instead, to perform the operation inplace on the original object.\n",
            "\n",
            "\n",
            "  data['education'].fillna(mode_education, inplace=True)\n",
            "<ipython-input-3-55284f6ffce6>:17: FutureWarning: A value is trying to be set on a copy of a DataFrame or Series through chained assignment using an inplace method.\n",
            "The behavior will change in pandas 3.0. This inplace method will never work because the intermediate object on which we are setting values always behaves as a copy.\n",
            "\n",
            "For example, when doing 'df[col].method(value, inplace=True)', try using 'df.method({col: value}, inplace=True)' or df[col] = df[col].method(value) instead, to perform the operation inplace on the original object.\n",
            "\n",
            "\n",
            "  data['previous_year_rating'].fillna(mean_rating, inplace=True)\n"
          ]
        },
        {
          "output_type": "stream",
          "name": "stdout",
          "text": [
            "Predictions saved to 'predictions.csv'.\n"
          ]
        }
      ],
      "source": [
        "import pandas as pd\n",
        "import matplotlib.pyplot as plt\n",
        "import seaborn as sns\n",
        "import numpy as np\n",
        "from sklearn.preprocessing import StandardScaler\n",
        "from sklearn.ensemble import RandomForestClassifier\n",
        "from sklearn.metrics import f1_score, accuracy_score\n",
        "# from sklearn.model_selection import train_test_split  # Uncomment if you want to use train-test split\n",
        "\n",
        "data = pd.read_csv('/content/train_LZdllcl.csv')\n",
        "test_data = pd.read_csv('/content/test_2umaH9m.csv')\n",
        "\n",
        "# Fill missing values\n",
        "mode_education = data['education'].mode()[0]\n",
        "data['education'].fillna(mode_education, inplace=True)\n",
        "mean_rating = data['previous_year_rating'].mean()\n",
        "data['previous_year_rating'].fillna(mean_rating, inplace=True)\n",
        "\n",
        "# One-hot encoding for categorical variables\n",
        "train_data_encoded = pd.get_dummies(data, columns=['department', 'region', 'education', 'gender', 'recruitment_channel'], drop_first=True)\n",
        "\n",
        "X = train_data_encoded.drop(['employee_id', 'is_promoted'], axis=1)\n",
        "y = train_data_encoded['is_promoted']\n",
        "\n",
        "# Uncomment if using train-test split:\n",
        "# X_train, X_test, y_train, y_test = train_test_split(X, y, test_size=0.2, random_state=42)\n",
        "\n",
        "# One-hot encoding for categorical variables in the testing dataset\n",
        "test_data_encoded = pd.get_dummies(test_data, columns=['department', 'region', 'education', 'gender', 'recruitment_channel'], drop_first=True)\n",
        "\n",
        "# Align the columns of the test data with the training data\n",
        "test_data_encoded = test_data_encoded.reindex(columns=X.columns, fill_value=0)\n",
        "\n",
        "# Ensure 'employee_id' column is included in the output, not for predictions\n",
        "test_data_encoded['employee_id'] = test_data['employee_id']\n",
        "\n",
        "# Train the RandomForest Model\n",
        "model = RandomForestClassifier(random_state=42)\n",
        "model.fit(X, y)\n",
        "\n",
        "# Make Predictions\n",
        "X_test = test_data_encoded.drop(['employee_id'], axis=1)  # Drop 'employee_id' for predictions\n",
        "predictions = model.predict(X_test)\n",
        "\n",
        "# Save Predictions\n",
        "output = pd.DataFrame({'employee_id': test_data_encoded['employee_id'], 'is_promoted': predictions})\n",
        "output.to_csv('predictions.csv', index=False)\n",
        "\n",
        "print(\"Predictions saved to 'predictions.csv'.\")"
      ]
    }
  ]
}