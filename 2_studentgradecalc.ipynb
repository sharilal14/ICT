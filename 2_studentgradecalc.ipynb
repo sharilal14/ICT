{
  "nbformat": 4,
  "nbformat_minor": 0,
  "metadata": {
    "colab": {
      "provenance": []
    },
    "kernelspec": {
      "name": "python3",
      "display_name": "Python 3"
    },
    "language_info": {
      "name": "python"
    }
  },
  "cells": [
    {
      "cell_type": "markdown",
      "source": [
        "2. A teacher wants a program to calculate grades for students based on their marks.\n",
        "a. Store marks for 5 subjects in a list. b. Calculate the average and determine the grade:\n",
        "o\n",
        "90+ -> A\n",
        "o\n",
        "70-89 -> B\n",
        "o\n",
        "50-69 -> C\n",
        "o\n",
        "<50 -> F\n",
        "c. Display the average and the grade."
      ],
      "metadata": {
        "id": "nYOV0KirZ14y"
      }
    },
    {
      "cell_type": "code",
      "execution_count": null,
      "metadata": {
        "colab": {
          "base_uri": "https://localhost:8080/"
        },
        "id": "-0h-TYXJZuEO",
        "outputId": "435a636d-b2e9-46f8-fd11-cd70ac106830"
      },
      "outputs": [
        {
          "output_type": "stream",
          "name": "stdout",
          "text": [
            "Enter the marks for subject 1: 90\n",
            "Enter the marks for subject 2: 85\n",
            "Enter the marks for subject 3: 65\n",
            "Enter the marks for subject 4: 70\n",
            "Enter the marks for subject 5: 73\n",
            "\n",
            " Average Marks: 76.6\n",
            "Grade: B\n"
          ]
        }
      ],
      "source": [
        "\n",
        "marks = []\n",
        "for i in range(5):\n",
        "    mark = float(input(f\"Enter the marks for subject {i + 1}: \"))\n",
        "    marks.append(mark)\n",
        "average = sum(marks) / len(marks)\n",
        "if average >= 90:\n",
        "    grade = 'A'\n",
        "elif 70 <= average < 90:\n",
        "    grade = 'B'\n",
        "elif 50 <= average < 70:\n",
        "    grade = 'C'\n",
        "else:\n",
        "    grade = 'F'\n",
        "\n",
        "print(f\"\\n Average Marks: {average:}\")\n",
        "print(f\"Grade: {grade}\")"
      ]
    }
  ]
}