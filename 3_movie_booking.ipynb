{
  "nbformat": 4,
  "nbformat_minor": 0,
  "metadata": {
    "colab": {
      "provenance": []
    },
    "kernelspec": {
      "name": "python3",
      "display_name": "Python 3"
    },
    "language_info": {
      "name": "python"
    }
  },
  "cells": [
    {
      "cell_type": "markdown",
      "source": [
        "3.\n",
        "A movie theatre wants to automate ticket booking for customers.\n",
        "a. Use a list to store the available seats (e.g., [1, 2, 3, ..., 20]). b. Allow the customer to book a seat by entering the seat number. c. After booking, remove the seat from the list of available seats. d. Display the remaining available seats."
      ],
      "metadata": {
        "id": "QmDtW0EAJB83"
      }
    },
    {
      "cell_type": "code",
      "execution_count": 1,
      "metadata": {
        "colab": {
          "base_uri": "https://localhost:8080/"
        },
        "id": "GNfk5XUVHkHZ",
        "outputId": "c4124f07-82b8-4f85-ec4c-4cb198724385"
      },
      "outputs": [
        {
          "output_type": "stream",
          "name": "stdout",
          "text": [
            "Welcome to the Movie Theatre!\n",
            "Available seats: [1, 2, 3, 4, 5, 6, 7, 8, 9, 10, 11, 12, 13, 14, 15, 16, 17, 18, 19, 20]\n",
            "\n",
            "Enter the seat number you want to book (or type 'done' to exit): 18\n",
            "Seat 18 has been booked successfully!\n",
            "Remaining available seats: [1, 2, 3, 4, 5, 6, 7, 8, 9, 10, 11, 12, 13, 14, 15, 16, 17, 19, 20]\n",
            "\n",
            "Enter the seat number you want to book (or type 'done' to exit): 22\n",
            "Seat 22 is not available. Please choose another seat.\n",
            "Remaining available seats: [1, 2, 3, 4, 5, 6, 7, 8, 9, 10, 11, 12, 13, 14, 15, 16, 17, 19, 20]\n",
            "\n",
            "Enter the seat number you want to book (or type 'done' to exit): done\n",
            "\n",
            "Thank you for using the ticket booking system!\n"
          ]
        }
      ],
      "source": [
        "\n",
        "available_seats = list(range(1, 21))\n",
        "\n",
        "print(\"Welcome to the Movie Theatre!\")\n",
        "print(\"Available seats:\", available_seats)\n",
        "\n",
        "while True:\n",
        "\n",
        "    try:\n",
        "        seat_number = input(\"\\nEnter the seat number you want to book (or type 'done' to exit): \")\n",
        "        if seat_number.lower() == 'done':\n",
        "            break\n",
        "        seat_number = int(seat_number)\n",
        "\n",
        "        if seat_number in available_seats:\n",
        "            available_seats.remove(seat_number)\n",
        "            print(f\"Seat {seat_number} has been booked successfully!\")\n",
        "        else:\n",
        "            print(f\"Seat {seat_number} is not available. Please choose another seat.\")\n",
        "    except ValueError:\n",
        "        print(\"Invalid input. Please enter a valid seat number.\")\n",
        "\n",
        "    print(\"Remaining available seats:\", available_seats)\n",
        "\n",
        "print(\"\\nThank you for using the ticket booking system!\")"
      ]
    }
  ]
}